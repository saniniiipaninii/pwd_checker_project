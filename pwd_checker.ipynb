{
  "nbformat": 4,
  "nbformat_minor": 0,
  "metadata": {
    "colab": {
      "provenance": [],
      "authorship_tag": "ABX9TyNvIUUxoQV3sjKemXHOemk2",
      "include_colab_link": true
    },
    "kernelspec": {
      "name": "python3",
      "display_name": "Python 3"
    },
    "language_info": {
      "name": "python"
    }
  },
  "cells": [
    {
      "cell_type": "markdown",
      "metadata": {
        "id": "view-in-github",
        "colab_type": "text"
      },
      "source": [
        "<a href=\"https://colab.research.google.com/github/saniniiipaninii/pwd_checker_project/blob/main/pwd_checker.ipynb\" target=\"_parent\"><img src=\"https://colab.research.google.com/assets/colab-badge.svg\" alt=\"Open In Colab\"/></a>"
      ]
    },
    {
      "cell_type": "code",
      "execution_count": 1,
      "metadata": {
        "colab": {
          "base_uri": "https://localhost:8080/"
        },
        "id": "h_ZEPmQUnlWW",
        "outputId": "68e50a29-bd26-4c20-b2dc-4d8e99abbea5"
      },
      "outputs": [
        {
          "output_type": "stream",
          "name": "stdout",
          "text": [
            "+++ Welcome to the Password Check +++\n",
            "Would you like to check your password strength (y/n): y\n",
            "Enter Password: ··········\n",
            "Your password has: \n",
            "4 lowercase characters\n",
            "4 uppercase characters\n",
            "2 numerical characters\n",
            "0 whitespace characters\n",
            "6 special characters\n",
            "Password Strength is:4\n",
            "Hint: Not a bad password, but can definitely be better.\n",
            "Do you want to enter another password (y/n): n\n",
            "Goodbye! Thanks for using the password checker.\n"
          ]
        }
      ],
      "source": [
        "import string\n",
        "import getpass\n",
        "\n",
        "def check_pwd_strength():\n",
        "    password = getpass.getpass(\"Enter Password: \")\n",
        "    strength = 0\n",
        "    remarks = ' '\n",
        "    lower_count = upper_count = num_count = wspace_count = special_count = 0\n",
        "\n",
        "    for char in list(password):\n",
        "        if char in string.ascii_lowercase:\n",
        "            lower_count += 1\n",
        "\n",
        "        elif char in string.ascii_uppercase:\n",
        "            upper_count +=1\n",
        "        elif char in string.digits:\n",
        "            num_count += 1\n",
        "        elif char == ' ':\n",
        "            wspace_count += 1\n",
        "        else:\n",
        "            special_count += 1\n",
        "\n",
        "    if lower_count >= 1:\n",
        "        strength += 1\n",
        "    if upper_count >= 1:\n",
        "        strength += 1\n",
        "    if num_count >= 1:\n",
        "        strength += 1\n",
        "    if wspace_count >= 1:\n",
        "        strength += 1\n",
        "    if special_count >= 1:\n",
        "        strength += 1\n",
        "\n",
        "    if strength == 1:\n",
        "        remarks = \"Very very very bad password! Please change this to a stronger password!\"\n",
        "    elif strength == 2:\n",
        "        remarks = \"Not a good password! Please change to a stronger password!\"\n",
        "    elif strength == 3:\n",
        "        remarks = \"Very weak password, consider changing for better security.\"\n",
        "    elif strength == 4:\n",
        "        remarks = \"Not a bad password, but can definitely be better.\"\n",
        "    elif strength == 5:\n",
        "        remarks = \"A very strong password indeed!\"\n",
        "\n",
        "    print('Your password has: ')\n",
        "    print(f\"{lower_count} lowercase characters\")\n",
        "    print(f\"{upper_count} uppercase characters\")\n",
        "    print(f\"{num_count} numerical characters\")\n",
        "    print(f\"{wspace_count} whitespace characters\")\n",
        "    print(f\"{special_count} special characters\")\n",
        "\n",
        "    print(f\"Password Strength is:{strength}\")\n",
        "    print(f\"Hint: {remarks}\")\n",
        "\n",
        "def ask_password(another_password = False):\n",
        "    valid = False\n",
        "    if another_password:\n",
        "        choice = input('Do you want to enter another password (y/n): ')\n",
        "    else:\n",
        "        choice = input('Would you like to check your password strength (y/n): ')\n",
        "\n",
        "    while not valid:\n",
        "        if choice.lower() == 'y':\n",
        "            return True\n",
        "        elif choice.lower() == 'n':\n",
        "            return False\n",
        "        else:\n",
        "            print('Invalid, Please Try Again')\n",
        "\n",
        "if __name__ == '__main__':\n",
        "    print('+++ Welcome to the Password Check +++')\n",
        "\n",
        "    ask = ask_password()\n",
        "\n",
        "    while ask:\n",
        "        check_pwd_strength()\n",
        "        ask = ask_password(True)\n",
        "    print(\"Goodbye! Thanks for using the password checker.\")"
      ]
    }
  ]
}